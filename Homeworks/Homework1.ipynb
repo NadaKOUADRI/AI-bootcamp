{
 "cells": [
  {
   "cell_type": "code",
   "execution_count": 43,
   "id": "6d9b1c82",
   "metadata": {},
   "outputs": [
    {
     "name": "stdout",
     "output_type": "stream",
     "text": [
      "The version of Pandas is:  2.0.3\n"
     ]
    }
   ],
   "source": [
    "#Question1\n",
    "import pandas as pd \n",
    "import numpy as np\n",
    "print(\"The version of Pandas is: \",pd.__version__)"
   ]
  },
  {
   "cell_type": "code",
   "execution_count": 14,
   "id": "c6480e94",
   "metadata": {},
   "outputs": [
    {
     "name": "stdout",
     "output_type": "stream",
     "text": [
      "There are 20640 columns in the Database.\n"
     ]
    }
   ],
   "source": [
    "#Question2\n",
    "Data=pd.read_csv('housing.csv')\n",
    "Data\n",
    "columns = Data.shape[0]\n",
    "\n",
    "print(f\"There are {columns} columns in the Database.\")\n",
    "\n",
    "\n"
   ]
  },
  {
   "cell_type": "code",
   "execution_count": 20,
   "id": "7fa4f330",
   "metadata": {},
   "outputs": [
    {
     "name": "stdout",
     "output_type": "stream",
     "text": [
      "There are empty columns in the dataset.\n",
      "Columns with missing values:\n",
      "total_bedrooms    True\n",
      "dtype: bool\n"
     ]
    }
   ],
   "source": [
    "#Question3   \n",
    "empty_columns = Data.isna().any()\n",
    "if empty_columns.any():\n",
    "    print(\"There are empty columns in the dataset.\")\n",
    "    print(\"Columns with missing values:\")\n",
    "    print(empty_columns[empty_columns])\n",
    "else:\n",
    "    print(\"No empty columns in the dataset.\")"
   ]
  },
  {
   "cell_type": "code",
   "execution_count": 22,
   "id": "37e603fe",
   "metadata": {},
   "outputs": [
    {
     "name": "stdout",
     "output_type": "stream",
     "text": [
      "The 'ocean_proximity' column has 5 unique values.\n"
     ]
    }
   ],
   "source": [
    "#Question4\n",
    "unique_values = Data['ocean_proximity'].nunique()\n",
    "print(f\"The 'ocean_proximity' column has {unique_values} unique values.\")"
   ]
  },
  {
   "cell_type": "code",
   "execution_count": 26,
   "id": "c11825e8",
   "metadata": {},
   "outputs": [
    {
     "name": "stdout",
     "output_type": "stream",
     "text": [
      "The average 'median_house_value' for houses near the bay is $259,212\n"
     ]
    }
   ],
   "source": [
    "#Question5\n",
    "houses_near_bay = Data[Data['ocean_proximity'] == 'NEAR BAY']\n",
    "average_median_house_value_near_bay = houses_near_bay['median_house_value'].mean()\n",
    "\n",
    "print(f\"The average 'median_house_value' for houses near the bay is ${average_median_house_value_near_bay:,.0f}\")"
   ]
  },
  {
   "cell_type": "code",
   "execution_count": 32,
   "id": "e5a10929",
   "metadata": {},
   "outputs": [
    {
     "name": "stdout",
     "output_type": "stream",
     "text": [
      "The average 'total_bedrooms'is 537.871\n",
      "The average 'total_bedrooms'is 537.871\n",
      "No, it's the same \n"
     ]
    }
   ],
   "source": [
    "#Question6\n",
    "total_bedrooms_average1=Data['total_bedrooms'].mean()\n",
    "print(f\"The average 'total_bedrooms'is {total_bedrooms_average1:,.3f}\")\n",
    "\n",
    "Data['total_bedrooms'].fillna(total_bedrooms_average1, inplace=True)\n",
    "\n",
    "total_bedrooms_average2=Data['total_bedrooms'].mean()\n",
    "print(f\"The average 'total_bedrooms'is {total_bedrooms_average2:,.3f}\")\n",
    "\n",
    "if (total_bedrooms_average1==total_bedrooms_average2):\n",
    "  print(\"No, it's the same \")\n",
    "else: print (\"Yes, it has changed\")\n",
    "\n"
   ]
  },
  {
   "cell_type": "code",
   "execution_count": 49,
   "id": "52716db4",
   "metadata": {},
   "outputs": [
    {
     "data": {
      "text/plain": [
       "array([23.12330961, -1.48124183,  5.69922946])"
      ]
     },
     "execution_count": 49,
     "metadata": {},
     "output_type": "execute_result"
    }
   ],
   "source": [
    "#Question7\n",
    "#1\n",
    "island_option=Data[Data['ocean_proximity'] == 'ISLAND']\n",
    "#2\n",
    "selected_columns=island_option[['housing_median_age', 'total_rooms', 'total_bedrooms']]\n",
    "#3\n",
    "X=selected_columns.values\n",
    "#4\n",
    "XTX = X.T.dot(X)\n",
    "#5\n",
    "try:\n",
    "    XTX_inverse = np.linalg.inv(XTX)\n",
    "except np.linalg.LinAlgError:\n",
    "    print(\"XTX is not invertible (singular matrix).\")\n",
    "#6\n",
    "Y=np.array([950, 1300, 800, 1000, 1300])\n",
    "#7\n",
    "w = XTX_inverse.dot(X.T).dot(Y)\n",
    "#8\n",
    "w"
   ]
  },
  {
   "cell_type": "code",
   "execution_count": null,
   "id": "124076ca",
   "metadata": {},
   "outputs": [],
   "source": []
  }
 ],
 "metadata": {
  "kernelspec": {
   "display_name": "Python 3 (ipykernel)",
   "language": "python",
   "name": "python3"
  },
  "language_info": {
   "codemirror_mode": {
    "name": "ipython",
    "version": 3
   },
   "file_extension": ".py",
   "mimetype": "text/x-python",
   "name": "python",
   "nbconvert_exporter": "python",
   "pygments_lexer": "ipython3",
   "version": "3.11.5"
  }
 },
 "nbformat": 4,
 "nbformat_minor": 5
}
